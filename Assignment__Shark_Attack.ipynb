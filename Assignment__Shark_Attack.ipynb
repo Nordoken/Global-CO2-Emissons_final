{
  "nbformat": 4,
  "nbformat_minor": 0,
  "metadata": {
    "colab": {
      "provenance": [],
      "mount_file_id": "1xNKuaPyYzv2DrQiJLPNbuEg9Fi-weWSw",
      "authorship_tag": "ABX9TyNEL+Wy3jxUUBzwR9lYKIjB",
      "include_colab_link": true
    },
    "kernelspec": {
      "name": "python3",
      "display_name": "Python 3"
    },
    "language_info": {
      "name": "python"
    }
  },
  "cells": [
    {
      "cell_type": "markdown",
      "metadata": {
        "id": "view-in-github",
        "colab_type": "text"
      },
      "source": [
        "<a href=\"https://colab.research.google.com/github/Nordoken/Global-CO2-Emissons_final/blob/main/Assignment__Shark_Attack.ipynb\" target=\"_parent\"><img src=\"https://colab.research.google.com/assets/colab-badge.svg\" alt=\"Open In Colab\"/></a>"
      ]
    },
    {
      "cell_type": "markdown",
      "source": [
        "Assignment: Shark Attack Reinis Indriksons\n"
      ],
      "metadata": {
        "id": "T0sT4Y8fJpXU"
      }
    },
    {
      "cell_type": "markdown",
      "source": [
        "1. What are the most dangerous types of sharks to humans?\n"
      ],
      "metadata": {
        "id": "d8ujik9VJ1f3"
      }
    },
    {
      "cell_type": "code",
      "execution_count": 13,
      "metadata": {
        "id": "FSkkD8S1xQR7",
        "colab": {
          "base_uri": "https://localhost:8080/",
          "height": 108
        },
        "outputId": "73a569dc-129c-49b3-ace7-46793244a6e5"
      },
      "outputs": [
        {
          "output_type": "display_data",
          "data": {
            "text/plain": [
              "<IPython.core.display.HTML object>"
            ],
            "text/html": [
              "\n",
              "     <input type=\"file\" id=\"files-2397cfa6-457c-419b-9c3d-79e4015021d6\" name=\"files[]\" multiple disabled\n",
              "        style=\"border:none\" />\n",
              "     <output id=\"result-2397cfa6-457c-419b-9c3d-79e4015021d6\">\n",
              "      Upload widget is only available when the cell has been executed in the\n",
              "      current browser session. Please rerun this cell to enable.\n",
              "      </output>\n",
              "      <script>// Copyright 2017 Google LLC\n",
              "//\n",
              "// Licensed under the Apache License, Version 2.0 (the \"License\");\n",
              "// you may not use this file except in compliance with the License.\n",
              "// You may obtain a copy of the License at\n",
              "//\n",
              "//      http://www.apache.org/licenses/LICENSE-2.0\n",
              "//\n",
              "// Unless required by applicable law or agreed to in writing, software\n",
              "// distributed under the License is distributed on an \"AS IS\" BASIS,\n",
              "// WITHOUT WARRANTIES OR CONDITIONS OF ANY KIND, either express or implied.\n",
              "// See the License for the specific language governing permissions and\n",
              "// limitations under the License.\n",
              "\n",
              "/**\n",
              " * @fileoverview Helpers for google.colab Python module.\n",
              " */\n",
              "(function(scope) {\n",
              "function span(text, styleAttributes = {}) {\n",
              "  const element = document.createElement('span');\n",
              "  element.textContent = text;\n",
              "  for (const key of Object.keys(styleAttributes)) {\n",
              "    element.style[key] = styleAttributes[key];\n",
              "  }\n",
              "  return element;\n",
              "}\n",
              "\n",
              "// Max number of bytes which will be uploaded at a time.\n",
              "const MAX_PAYLOAD_SIZE = 100 * 1024;\n",
              "\n",
              "function _uploadFiles(inputId, outputId) {\n",
              "  const steps = uploadFilesStep(inputId, outputId);\n",
              "  const outputElement = document.getElementById(outputId);\n",
              "  // Cache steps on the outputElement to make it available for the next call\n",
              "  // to uploadFilesContinue from Python.\n",
              "  outputElement.steps = steps;\n",
              "\n",
              "  return _uploadFilesContinue(outputId);\n",
              "}\n",
              "\n",
              "// This is roughly an async generator (not supported in the browser yet),\n",
              "// where there are multiple asynchronous steps and the Python side is going\n",
              "// to poll for completion of each step.\n",
              "// This uses a Promise to block the python side on completion of each step,\n",
              "// then passes the result of the previous step as the input to the next step.\n",
              "function _uploadFilesContinue(outputId) {\n",
              "  const outputElement = document.getElementById(outputId);\n",
              "  const steps = outputElement.steps;\n",
              "\n",
              "  const next = steps.next(outputElement.lastPromiseValue);\n",
              "  return Promise.resolve(next.value.promise).then((value) => {\n",
              "    // Cache the last promise value to make it available to the next\n",
              "    // step of the generator.\n",
              "    outputElement.lastPromiseValue = value;\n",
              "    return next.value.response;\n",
              "  });\n",
              "}\n",
              "\n",
              "/**\n",
              " * Generator function which is called between each async step of the upload\n",
              " * process.\n",
              " * @param {string} inputId Element ID of the input file picker element.\n",
              " * @param {string} outputId Element ID of the output display.\n",
              " * @return {!Iterable<!Object>} Iterable of next steps.\n",
              " */\n",
              "function* uploadFilesStep(inputId, outputId) {\n",
              "  const inputElement = document.getElementById(inputId);\n",
              "  inputElement.disabled = false;\n",
              "\n",
              "  const outputElement = document.getElementById(outputId);\n",
              "  outputElement.innerHTML = '';\n",
              "\n",
              "  const pickedPromise = new Promise((resolve) => {\n",
              "    inputElement.addEventListener('change', (e) => {\n",
              "      resolve(e.target.files);\n",
              "    });\n",
              "  });\n",
              "\n",
              "  const cancel = document.createElement('button');\n",
              "  inputElement.parentElement.appendChild(cancel);\n",
              "  cancel.textContent = 'Cancel upload';\n",
              "  const cancelPromise = new Promise((resolve) => {\n",
              "    cancel.onclick = () => {\n",
              "      resolve(null);\n",
              "    };\n",
              "  });\n",
              "\n",
              "  // Wait for the user to pick the files.\n",
              "  const files = yield {\n",
              "    promise: Promise.race([pickedPromise, cancelPromise]),\n",
              "    response: {\n",
              "      action: 'starting',\n",
              "    }\n",
              "  };\n",
              "\n",
              "  cancel.remove();\n",
              "\n",
              "  // Disable the input element since further picks are not allowed.\n",
              "  inputElement.disabled = true;\n",
              "\n",
              "  if (!files) {\n",
              "    return {\n",
              "      response: {\n",
              "        action: 'complete',\n",
              "      }\n",
              "    };\n",
              "  }\n",
              "\n",
              "  for (const file of files) {\n",
              "    const li = document.createElement('li');\n",
              "    li.append(span(file.name, {fontWeight: 'bold'}));\n",
              "    li.append(span(\n",
              "        `(${file.type || 'n/a'}) - ${file.size} bytes, ` +\n",
              "        `last modified: ${\n",
              "            file.lastModifiedDate ? file.lastModifiedDate.toLocaleDateString() :\n",
              "                                    'n/a'} - `));\n",
              "    const percent = span('0% done');\n",
              "    li.appendChild(percent);\n",
              "\n",
              "    outputElement.appendChild(li);\n",
              "\n",
              "    const fileDataPromise = new Promise((resolve) => {\n",
              "      const reader = new FileReader();\n",
              "      reader.onload = (e) => {\n",
              "        resolve(e.target.result);\n",
              "      };\n",
              "      reader.readAsArrayBuffer(file);\n",
              "    });\n",
              "    // Wait for the data to be ready.\n",
              "    let fileData = yield {\n",
              "      promise: fileDataPromise,\n",
              "      response: {\n",
              "        action: 'continue',\n",
              "      }\n",
              "    };\n",
              "\n",
              "    // Use a chunked sending to avoid message size limits. See b/62115660.\n",
              "    let position = 0;\n",
              "    do {\n",
              "      const length = Math.min(fileData.byteLength - position, MAX_PAYLOAD_SIZE);\n",
              "      const chunk = new Uint8Array(fileData, position, length);\n",
              "      position += length;\n",
              "\n",
              "      const base64 = btoa(String.fromCharCode.apply(null, chunk));\n",
              "      yield {\n",
              "        response: {\n",
              "          action: 'append',\n",
              "          file: file.name,\n",
              "          data: base64,\n",
              "        },\n",
              "      };\n",
              "\n",
              "      let percentDone = fileData.byteLength === 0 ?\n",
              "          100 :\n",
              "          Math.round((position / fileData.byteLength) * 100);\n",
              "      percent.textContent = `${percentDone}% done`;\n",
              "\n",
              "    } while (position < fileData.byteLength);\n",
              "  }\n",
              "\n",
              "  // All done.\n",
              "  yield {\n",
              "    response: {\n",
              "      action: 'complete',\n",
              "    }\n",
              "  };\n",
              "}\n",
              "\n",
              "scope.google = scope.google || {};\n",
              "scope.google.colab = scope.google.colab || {};\n",
              "scope.google.colab._files = {\n",
              "  _uploadFiles,\n",
              "  _uploadFilesContinue,\n",
              "};\n",
              "})(self);\n",
              "</script> "
            ]
          },
          "metadata": {}
        },
        {
          "output_type": "stream",
          "name": "stdout",
          "text": [
            "Saving attacks.csv to attacks (1).csv\n",
            "Saving list_coor_australia.csv to list_coor_australia (1).csv\n"
          ]
        }
      ],
      "source": [
        "from google.colab import files\n",
        "\n",
        "uploaded = files.upload()"
      ]
    },
    {
      "cell_type": "code",
      "source": [
        "print(df.columns)"
      ],
      "metadata": {
        "id": "9BPttKNU5rOS",
        "colab": {
          "base_uri": "https://localhost:8080/"
        },
        "outputId": "0fa91f16-71e3-4b2d-a646-a5a6822383c6"
      },
      "execution_count": 92,
      "outputs": [
        {
          "output_type": "stream",
          "name": "stdout",
          "text": [
            "Index(['Case Number', 'Date', 'Year', 'Type', 'Country', 'Area', 'Location',\n",
            "       'Activity', 'Name', 'Sex ', 'Age', 'Injury', 'Fatal (Y/N)', 'Time',\n",
            "       'Species ', 'Investigator or Source', 'pdf', 'href formula', 'href',\n",
            "       'Case Number.1', 'Case Number.2', 'original order', 'Unnamed: 22',\n",
            "       'Unnamed: 23'],\n",
            "      dtype='object')\n"
          ]
        }
      ]
    },
    {
      "cell_type": "code",
      "source": [
        "#now i will sort by Fatal 'y' and Species\n",
        "#based on data most dangerous types of sharks to humans are  White sharks\n",
        "# if needed we cold sort out exact data of Fatal attack count based on shark type\n",
        "\n",
        "import pandas as pd\n",
        "from prettytable import PrettyTable\n",
        "\n",
        "file_path = '/content/attacks.csv'\n",
        "\n",
        "# different encodings if needed (had to look this up (was getting errors)\n",
        "try:\n",
        "    df = pd.read_csv(file_path, encoding='utf-8')\n",
        "except UnicodeDecodeError:\n",
        "    df = pd.read_csv(file_path, encoding='latin-1')\n",
        "\n",
        "fatal_attacks = df[(df['Type'] == 'Unprovoked') & (df['Fatal (Y/N)'] == 'Y')]\n",
        "\n",
        "fatal_attacks['Species '] = fatal_attacks['Species '].str.replace(r'\\d+', '').str.strip()\n",
        "fatal_shark_attacks = fatal_attacks.groupby('Species ').size().reset_index(name='Fatal_Attack_Count')\n",
        "sorted_fatal_attacks = fatal_shark_attacks.sort_values(by='Fatal_Attack_Count', ascending=False)\n",
        "\n",
        "top_10_fatal_sharks = sorted_fatal_attacks.head(10)\n",
        "\n",
        "table = PrettyTable()\n",
        "table.field_names = [\"Shark Species\", \"Fatal Attack Count\"]\n",
        "\n",
        "\n",
        "for index, row in top_10_fatal_sharks.iterrows():\n",
        "    table.add_row([row['Species '], row['Fatal_Attack_Count']])\n",
        "\n",
        "\n",
        "print(table)\n"
      ],
      "metadata": {
        "colab": {
          "base_uri": "https://localhost:8080/"
        },
        "id": "dyJ1ATCq9sy_",
        "outputId": "a5fce6c3-9e26-4c32-d3f3-151269040bd2"
      },
      "execution_count": 93,
      "outputs": [
        {
          "output_type": "stream",
          "name": "stdout",
          "text": [
            "+------------------------------------+--------------------+\n",
            "|           Shark Species            | Fatal Attack Count |\n",
            "+------------------------------------+--------------------+\n",
            "|            White shark             |         44         |\n",
            "|            Tiger shark             |         25         |\n",
            "|           . m ['] shark            |         20         |\n",
            "|             Bull shark             |         15         |\n",
            "|              ' shark               |         15         |\n",
            "|            m ['] shark             |         9          |\n",
            "|         m ['] white shark          |         9          |\n",
            "| Thought to involve a Zambesi shark |         5          |\n",
            "|        Tiger shark, . m [']        |         5          |\n",
            "|              m shark               |         5          |\n",
            "+------------------------------------+--------------------+\n"
          ]
        },
        {
          "output_type": "stream",
          "name": "stderr",
          "text": [
            "<ipython-input-93-23126a5e1d3c>:18: FutureWarning: The default value of regex will change from True to False in a future version.\n",
            "  fatal_attacks['Species '] = fatal_attacks['Species '].str.replace(r'\\d+', '').str.strip()\n",
            "<ipython-input-93-23126a5e1d3c>:18: SettingWithCopyWarning: \n",
            "A value is trying to be set on a copy of a slice from a DataFrame.\n",
            "Try using .loc[row_indexer,col_indexer] = value instead\n",
            "\n",
            "See the caveats in the documentation: https://pandas.pydata.org/pandas-docs/stable/user_guide/indexing.html#returning-a-view-versus-a-copy\n",
            "  fatal_attacks['Species '] = fatal_attacks['Species '].str.replace(r'\\d+', '').str.strip()\n"
          ]
        }
      ]
    },
    {
      "cell_type": "markdown",
      "source": [
        "1. Answer : there are more fatal cases involving white sharks and- so from data they are most dangerous type for human."
      ],
      "metadata": {
        "id": "v_x2MvkuKT8y"
      }
    },
    {
      "cell_type": "markdown",
      "source": [
        "2. Are children more likely to be attacked by sharks?\n"
      ],
      "metadata": {
        "id": "Xb7bYTZtKc__"
      }
    },
    {
      "cell_type": "code",
      "source": [
        "# now to determine if children are more likely to be attacked by sharks, i willn analyze the 'Age' column in the datase and fatal attacks\n",
        "# now first we need to determine untill what age is considert children (i will use 18 years)\n",
        "\n",
        "print(df['Age'].unique())"
      ],
      "metadata": {
        "colab": {
          "base_uri": "https://localhost:8080/"
        },
        "id": "X2pViz8-1Le_",
        "outputId": "bbeab2fc-3732-442c-a58f-260d614c6ecf"
      },
      "execution_count": 73,
      "outputs": [
        {
          "output_type": "stream",
          "name": "stdout",
          "text": [
            "['57' '11' '48' nan '18' '52' '15' '12' '32' '10' '21' '34' '30' '60' '33'\n",
            " '29' '54' '41' '37' '56' '19' '25' '69' '38' '55' '35' '46' '45' '14'\n",
            " '40s' '28' '20' '24' '26' '49' '22' '7' '31' '17' '40' '13' '42' '3' '8'\n",
            " '50' '16' '82' '73' '20s' '68' '51' '39' '58' 'Teen' '47' '61' '65' '36'\n",
            " '66' '43' '60s' '9' '72' '59' '6' '27' '64' '23' '71' '44' '62' '63' '70'\n",
            " '18 months' '53' '30s' '50s' 'teen' '77' '74' '28 & 26' '5' '86'\n",
            " '18 or 20' '12 or 13' '46 & 34' '28, 23 & 30' 'Teens' '36 & 26' '8 or 10'\n",
            " '84' '\\xa0 ' ' ' '30 or 36' '6½' '21 & ?' '75' '33 or 37' 'mid-30s'\n",
            " '23 & 20' ' 30' '7      &    31' ' 28' '20?' \"60's\" '32 & 30' '16 to 18'\n",
            " '87' '67' 'Elderly' 'mid-20s' 'Ca. 33' '74 ' '45 ' '21 or 26' '20 ' '>50'\n",
            " '18 to 22' 'adult' '9 & 12' '? & 19' '9 months' '25 to 35' '23 & 26' '1'\n",
            " '(adult)' '33 & 37' '25 or 28' '37, 67, 35, 27,  ? & 27' '21, 34,24 & 35'\n",
            " '30 & 32' '50 & 30' '17 & 35' 'X' '\"middle-age\"' '13 or 18' '34 & 19'\n",
            " '33 & 26' '2 to 3 months' 'MAKE LINE GREEN' ' 43' '81' '\"young\"' '7 or 8'\n",
            " '78' '17 & 16' 'F' 'Both 11' '9 or 10' 'young' '36 & 23' '  ' 'A.M.'\n",
            " '?    &   14' '10 or 12' '31 or 33' '2½' '13 or 14']\n"
          ]
        }
      ]
    },
    {
      "cell_type": "code",
      "source": [
        "# based on data there are less fatal attacks on children\n",
        "\n",
        "child_attacks = df[df['Age'].astype(str).str.extract('(\\d+)', expand=False).astype(float).fillna(0) < 18]\n",
        "\n",
        "total_attacks = df.shape[0]\n",
        "\n",
        "child_attacks_count = child_attacks.shape[0]\n",
        "\n",
        "overall_fatal_percentage = df[df['Fatal (Y/N)'] == 'Y'].shape[0] / total_attacks * 100\n",
        "\n",
        "child_fatal_percentage = child_attacks[child_attacks['Fatal (Y/N)'] == 'Y'].shape[0] / child_attacks_count * 100\n",
        "\n",
        "print(f\"Overall percentage of fatal attacks: {overall_fatal_percentage:.2f}%\")\n",
        "print(f\"Percentage of fatal attacks on children: {child_fatal_percentage:.2f}%\")\n"
      ],
      "metadata": {
        "colab": {
          "base_uri": "https://localhost:8080/"
        },
        "id": "a8GM61-o47Ed",
        "outputId": "9576e77b-c182-42bf-aa2e-53d2f1887222"
      },
      "execution_count": 94,
      "outputs": [
        {
          "output_type": "stream",
          "name": "stdout",
          "text": [
            "Overall percentage of fatal attacks: 5.40%\n",
            "Percentage of fatal attacks on children: 4.04%\n"
          ]
        }
      ]
    },
    {
      "cell_type": "code",
      "source": [
        "\n",
        "#The results indicate that 90.22% of all shark attacks in the dataset involve individuals under 18 years old, while only 9.78% involve adults (18 years and above).\n",
        "#This means a substantial difference in the distribution of shark attacks between children and adults. Children are more likely to be attacked by sharks.\n",
        "\n",
        "adult_attacks = df[df['Age'].astype(str).str.extract('(\\d+)', expand=False).astype(float).fillna(0) >= 18]\n",
        "\n",
        "child_attacks = df[df['Age'].astype(str).str.extract('(\\d+)', expand=False).astype(float).fillna(0) < 18]\n",
        "\n",
        "total_attacks = df.shape[0]\n",
        "\n",
        "adult_attacks_count = adult_attacks.shape[0]\n",
        "\n",
        "child_attacks_count = child_attacks.shape[0]\n",
        "\n",
        "adult_percentage = adult_attacks_count / total_attacks * 100\n",
        "\n",
        "child_percentage = child_attacks_count / total_attacks * 100\n",
        "\n",
        "print(f\"Percentage of all attacks on adults: {adult_percentage:.2f}%\")\n",
        "print(f\"Percentage of all attacks on children: {child_percentage:.2f}%\")\n",
        "\n",
        "if child_percentage > adult_percentage:\n",
        "    print(\"\\nChildren are more likely to be attacked by sharks.\")\n",
        "elif child_percentage < adult_percentage:\n",
        "    print(\"\\nAdults are more likely to be attacked by sharks.\")\n",
        "else:\n",
        "    print(\"\\nChildren and adults have a similar likelihood of being attacked by sharks.\")\n"
      ],
      "metadata": {
        "colab": {
          "base_uri": "https://localhost:8080/"
        },
        "id": "8w2lJ2ub7Ph9",
        "outputId": "d3dc3595-1c92-4113-96ad-4245e6a8497a"
      },
      "execution_count": 95,
      "outputs": [
        {
          "output_type": "stream",
          "name": "stdout",
          "text": [
            "Percentage of all attacks on adults: 9.78%\n",
            "Percentage of all attacks on children: 90.22%\n",
            "\n",
            "Children are more likely to be attacked by sharks.\n"
          ]
        }
      ]
    },
    {
      "cell_type": "markdown",
      "source": [
        "2. Answer : The results indicate that 90.22% of all shark attacks in the dataset involve individuals under 18 years old, while only 9.78% involve adults (18 years and above).\n",
        "This means a substantial difference in the distribution of shark attacks between children and adults. Children are more likely to be attacked by sharks.\n",
        "While children may be more likely to experience shark attacks, the fatality rate among children is lower compared to the overall fatality rate for all shark attacks."
      ],
      "metadata": {
        "id": "a4fc-ufjLDA0"
      }
    },
    {
      "cell_type": "markdown",
      "source": [
        "3. Are shark attacks where sharks were provoked more or less dangerous?"
      ],
      "metadata": {
        "id": "ItT02MmwLXUI"
      }
    },
    {
      "cell_type": "code",
      "source": [
        "\n",
        "# first I will check the unique values in the 'Type'\n",
        "print(df['Type'].unique())\n",
        "\n"
      ],
      "metadata": {
        "colab": {
          "base_uri": "https://localhost:8080/"
        },
        "id": "3Qcl4tIMDJiD",
        "outputId": "a5d6b048-f01a-4cdc-f81f-fc4a79715dc4"
      },
      "execution_count": 88,
      "outputs": [
        {
          "output_type": "stream",
          "name": "stdout",
          "text": [
            "['Boating' 'Unprovoked' 'Invalid' 'Provoked' 'Questionable' 'Sea Disaster'\n",
            " nan 'Boat' 'Boatomg']\n"
          ]
        }
      ]
    },
    {
      "cell_type": "code",
      "source": [
        "\n",
        "\n",
        "provoked_attacks = df[df['Type'] == 'Provoked']\n",
        "unprovoked_attacks = df[df['Type'] == 'Unprovoked']\n",
        "\n",
        "total_provoked_attacks = provoked_attacks.shape[0]\n",
        "provoked_fatal_percentage = provoked_attacks[provoked_attacks['Fatal (Y/N)'] == 'Y'].shape[0] / total_provoked_attacks * 100\n",
        "\n",
        "total_unprovoked_attacks = unprovoked_attacks.shape[0]\n",
        "unprovoked_fatal_percentage = unprovoked_attacks[unprovoked_attacks['Fatal (Y/N)'] == 'Y'].shape[0] / total_unprovoked_attacks * 100\n",
        "\n",
        "print(f\"Total provoked attacks: {total_provoked_attacks}\")\n",
        "print(f\"Provoked attacks fatality rate: {provoked_fatal_percentage:.2f}%\")\n",
        "\n",
        "print(f\"\\nTotal unprovoked attacks: {total_unprovoked_attacks}\")\n",
        "print(f\"Unprovoked attacks fatality rate: {unprovoked_fatal_percentage:.2f}%\")\n"
      ],
      "metadata": {
        "colab": {
          "base_uri": "https://localhost:8080/"
        },
        "id": "drSArtZ0DKcy",
        "outputId": "572e3688-ef1d-4bf9-a600-de481ba3a6fd"
      },
      "execution_count": 89,
      "outputs": [
        {
          "output_type": "stream",
          "name": "stdout",
          "text": [
            "Total provoked attacks: 574\n",
            "Provoked attacks fatality rate: 3.31%\n",
            "\n",
            "Total unprovoked attacks: 4595\n",
            "Unprovoked attacks fatality rate: 25.68%\n"
          ]
        }
      ]
    },
    {
      "cell_type": "markdown",
      "source": [
        "3. Answer: unprovoked shark attacks have a significantly higher fatality rate compared to provoked shark attacks. This suggests that, in general, unprovoked attacks are more dangerous and are more likely to result in fatal outcomes."
      ],
      "metadata": {
        "id": "1P74QK9uLk5h"
      }
    },
    {
      "cell_type": "markdown",
      "source": [
        "4. Are certain activities more likely to result in a shark attack?"
      ],
      "metadata": {
        "id": "JbWZbsvXLwpz"
      }
    },
    {
      "cell_type": "code",
      "source": [
        "# here I will count the number of shark attacks for each activity\n",
        "\n",
        "print(df['Activity'].unique())\n",
        "\n",
        "activity_counts = df['Activity'].value_counts().reset_index()\n",
        "activity_counts.columns = ['Activity', 'Attack_Count']\n",
        "\n",
        "print(\"Top Activities with Shark Attacks:\")\n",
        "print(activity_counts.head(10))\n"
      ],
      "metadata": {
        "colab": {
          "base_uri": "https://localhost:8080/"
        },
        "id": "79UN7TjyF7yG",
        "outputId": "93c07324-39d4-459c-e87d-256a3c6b49d0"
      },
      "execution_count": 91,
      "outputs": [
        {
          "output_type": "stream",
          "name": "stdout",
          "text": [
            "['Paddling' 'Standing' 'Surfing' ...\n",
            " 'Crew swimming alongside their anchored ship' '4 men were bathing'\n",
            " 'Wreck of  large double sailing canoe']\n",
            "Top Activities with Shark Attacks:\n",
            "       Activity  Attack_Count\n",
            "0       Surfing           971\n",
            "1      Swimming           869\n",
            "2       Fishing           431\n",
            "3  Spearfishing           333\n",
            "4       Bathing           162\n",
            "5        Wading           149\n",
            "6        Diving           127\n",
            "7      Standing            99\n",
            "8    Snorkeling            89\n",
            "9  Scuba diving            76\n"
          ]
        }
      ]
    },
    {
      "cell_type": "markdown",
      "source": [
        "4. Answer: Surfing has the highest number of recorded shark attacks, making it the most frequently reported activity associated with shark encounters. However, it's important to note that the count alone does not directly indicate the percentage chance of a shark attack during a specific activity. The prominence of surfing in shark attack records may be influenced by factors such as the popularity of the activity and the level of human exposure to sharks.\n",
        "To draw more definite conclusions about the likelihood of shark attacks during different activities, additional analysis is needed. Factors such as the total number of participants in each activity, and specific circumstances surrounding the incidents should be considered."
      ],
      "metadata": {
        "id": "GzsnmKkVL2bN"
      }
    }
  ]
}